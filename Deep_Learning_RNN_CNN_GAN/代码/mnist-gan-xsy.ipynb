{
 "cells": [
  {
   "cell_type": "code",
   "execution_count": 1,
   "metadata": {
    "colab": {},
    "colab_type": "code",
    "id": "xJNjXzV56WO-"
   },
   "outputs": [],
   "source": [
    "import tensorflow as tf \n",
    "import numpy as np\n",
    "import pandas as pd\n",
    "import matplotlib.pyplot as plt\n",
    "from tensorflow.examples.tutorials.mnist import input_data"
   ]
  },
  {
   "cell_type": "code",
   "execution_count": 2,
   "metadata": {
    "colab": {
     "base_uri": "https://localhost:8080/",
     "height": 86
    },
    "colab_type": "code",
    "id": "1II5E8as6Y6T",
    "outputId": "e9fe45d7-368d-421c-baff-968df4e8ea9b"
   },
   "outputs": [
    {
     "name": "stdout",
     "output_type": "stream",
     "text": [
      "WARNING:tensorflow:From <ipython-input-2-1712aabacf1e>:1: read_data_sets (from tensorflow.contrib.learn.python.learn.datasets.mnist) is deprecated and will be removed in a future version.\n",
      "Instructions for updating:\n",
      "Please use alternatives such as official/mnist/dataset.py from tensorflow/models.\n",
      "WARNING:tensorflow:From C:\\Users\\xsy\\Anaconda3\\lib\\site-packages\\tensorflow\\contrib\\learn\\python\\learn\\datasets\\mnist.py:260: maybe_download (from tensorflow.contrib.learn.python.learn.datasets.base) is deprecated and will be removed in a future version.\n",
      "Instructions for updating:\n",
      "Please write your own downloading logic.\n",
      "WARNING:tensorflow:From C:\\Users\\xsy\\Anaconda3\\lib\\site-packages\\tensorflow\\contrib\\learn\\python\\learn\\datasets\\base.py:252: _internal_retry.<locals>.wrap.<locals>.wrapped_fn (from tensorflow.contrib.learn.python.learn.datasets.base) is deprecated and will be removed in a future version.\n",
      "Instructions for updating:\n",
      "Please use urllib or similar directly.\n",
      "Successfully downloaded train-images-idx3-ubyte.gz 9912422 bytes.\n",
      "WARNING:tensorflow:From C:\\Users\\xsy\\Anaconda3\\lib\\site-packages\\tensorflow\\contrib\\learn\\python\\learn\\datasets\\mnist.py:262: extract_images (from tensorflow.contrib.learn.python.learn.datasets.mnist) is deprecated and will be removed in a future version.\n",
      "Instructions for updating:\n",
      "Please use tf.data to implement this functionality.\n",
      "Extracting MNIST_Data/train-images-idx3-ubyte.gz\n",
      "Successfully downloaded train-labels-idx1-ubyte.gz 28881 bytes.\n",
      "WARNING:tensorflow:From C:\\Users\\xsy\\Anaconda3\\lib\\site-packages\\tensorflow\\contrib\\learn\\python\\learn\\datasets\\mnist.py:267: extract_labels (from tensorflow.contrib.learn.python.learn.datasets.mnist) is deprecated and will be removed in a future version.\n",
      "Instructions for updating:\n",
      "Please use tf.data to implement this functionality.\n",
      "Extracting MNIST_Data/train-labels-idx1-ubyte.gz\n",
      "WARNING:tensorflow:From C:\\Users\\xsy\\Anaconda3\\lib\\site-packages\\tensorflow\\contrib\\learn\\python\\learn\\datasets\\mnist.py:110: dense_to_one_hot (from tensorflow.contrib.learn.python.learn.datasets.mnist) is deprecated and will be removed in a future version.\n",
      "Instructions for updating:\n",
      "Please use tf.one_hot on tensors.\n",
      "Successfully downloaded t10k-images-idx3-ubyte.gz 1648877 bytes.\n",
      "Extracting MNIST_Data/t10k-images-idx3-ubyte.gz\n",
      "Successfully downloaded t10k-labels-idx1-ubyte.gz 4542 bytes.\n",
      "Extracting MNIST_Data/t10k-labels-idx1-ubyte.gz\n",
      "WARNING:tensorflow:From C:\\Users\\xsy\\Anaconda3\\lib\\site-packages\\tensorflow\\contrib\\learn\\python\\learn\\datasets\\mnist.py:290: DataSet.__init__ (from tensorflow.contrib.learn.python.learn.datasets.mnist) is deprecated and will be removed in a future version.\n",
      "Instructions for updating:\n",
      "Please use alternatives such as official/mnist/dataset.py from tensorflow/models.\n"
     ]
    }
   ],
   "source": [
    "mnist=input_data.read_data_sets(\"MNIST_Data/\",one_hot=True)"
   ]
  },
  {
   "cell_type": "code",
   "execution_count": 3,
   "metadata": {
    "colab": {},
    "colab_type": "code",
    "id": "rNRLMPZn6dNQ"
   },
   "outputs": [],
   "source": [
    "#Neurral network training parameters\n",
    "#28*28=784\n",
    "\n",
    "batch_size=128\n",
    "# keep_prob= .5\n",
    "learning_rate=2e-4\n",
    "display_step=20\n",
    "num_steps=80000\n",
    "\n",
    "# image_size=28\n",
    "# num_labels=10\n",
    "img_dim=784 #not 28*28,but is 784(a straight line vector)\n",
    "disc_dim=256\n",
    "noise_dim=100\n",
    "gen_dim=256"
   ]
  },
  {
   "cell_type": "code",
   "execution_count": 4,
   "metadata": {},
   "outputs": [],
   "source": [
    "#Tensorflow data inputs\n",
    "gen_inp = tf.placeholder(tf.float32,shape=[None,noise_dim])#the number row is the number of observations(batch size)\n",
    "disc_inp=tf.placeholder(tf.float32,shape=[None,img_dim])"
   ]
  },
  {
   "cell_type": "code",
   "execution_count": 5,
   "metadata": {},
   "outputs": [],
   "source": [
    "def weight_init(shape):\n",
    "    return tf.random_normal(shape=shape,stddev=1. / tf.sqrt(shape[0] / 2.))"
   ]
  },
  {
   "cell_type": "code",
   "execution_count": 6,
   "metadata": {
    "colab": {},
    "colab_type": "code",
    "id": "3ve3nlVN6gPO"
   },
   "outputs": [
    {
     "name": "stdout",
     "output_type": "stream",
     "text": [
      "WARNING:tensorflow:From C:\\Users\\xsy\\Anaconda3\\lib\\site-packages\\tensorflow\\python\\framework\\op_def_library.py:263: colocate_with (from tensorflow.python.framework.ops) is deprecated and will be removed in a future version.\n",
      "Instructions for updating:\n",
      "Colocations handled automatically by placer.\n"
     ]
    }
   ],
   "source": [
    "# model  Architecture weights\n",
    "# noise dimension multiply some weight matriices and add biases and get some 2-dimension matrix\n",
    "# and multiply weight matrix and add some biases and then sigmoid\n",
    "\n",
    "w={\n",
    "    \"w1\":tf.Variable(weight_init([noise_dim,gen_dim])), \n",
    "    \"w2\":tf.Variable(weight_init([gen_dim,img_dim])),\n",
    "    \"w3\":tf.Variable(weight_init([img_dim,disc_dim])),\n",
    "    \"w4\":tf.Variable(weight_init([disc_dim,1]))\n",
    "}\n",
    "b={\n",
    "    \"b1\":tf.Variable(tf.zeros([gen_dim])),\n",
    "    \"b2\":tf.Variable(tf.zeros([img_dim])),\n",
    "    \"b3\":tf.Variable(tf.zeros([disc_dim])),\n",
    "    \"b4\":tf.Variable(tf.zeros([1]))\n",
    "}\n"
   ]
  },
  {
   "cell_type": "code",
   "execution_count": 7,
   "metadata": {},
   "outputs": [],
   "source": [
    "#Model_architechture\n",
    "\n",
    "#Generator\n",
    "\n",
    "def gen_fun(x):\n",
    "    h1=tf.matmul(x,w[\"w1\"])\n",
    "    h1=tf.add(h1,b[\"b1\"])\n",
    "    h1=tf.nn.relu(h1)\n",
    "    \n",
    "    h1=tf.matmul(h1,w[\"w2\"])\n",
    "    h1=tf.add(h1,b[\"b2\"])\n",
    "    h1=tf.nn.sigmoid(h1)\n",
    "    \n",
    "    return h1\n",
    "\n",
    "#Discriminator\n",
    "\n",
    "def disc_fun(x):\n",
    "    h2=tf.matmul(x,w[\"w3\"])\n",
    "    h2=tf.add(h2,b[\"b3\"])\n",
    "    h2=tf.nn.relu(h2)\n",
    "    \n",
    "    h2=tf.matmul(h2,w[\"w4\"])\n",
    "    h2=tf.add(h2,b[\"b4\"])\n",
    "    h2=tf.nn.sigmoid(h2)\n",
    "    \n",
    "    return h2"
   ]
  },
  {
   "cell_type": "code",
   "execution_count": 8,
   "metadata": {},
   "outputs": [],
   "source": [
    "# Cost function Optimization & Model Evaluation\n",
    "\n",
    "gen_out=gen_fun(gen_inp)\n",
    "\n",
    "disc_real_out=disc_fun(disc_inp)\n",
    "disc_fake_out=disc_fun(gen_out)\n",
    "\n",
    "#AdomOptimizer is similar to the stochastic gradient descent\n",
    "optim_gen=tf.train.AdamOptimizer(learning_rate=learning_rate)\n",
    "optmi_disc=tf.train.AdamOptimizer(learning_rate=learning_rate)\n",
    "\n",
    "# optimize the cost function, reduce the average of the output\n",
    "cost_gen=-tf.reduce_mean(tf.log(disc_fake_out))\n",
    "# when the disc_real_out ->1, and disc_fake_out ->0, the cost ->0\n",
    "cost_disc=-tf.reduce_mean(tf.log(disc_real_out)+tf.log(1.-disc_fake_out))\n",
    "\n",
    "# Generator and Discriminator Variables\n",
    "vars_gen=[w[\"w1\"],w[\"w2\"],b[\"b1\"],b[\"b2\"]]\n",
    "vars_disc=[w[\"w3\"],w[\"w4\"],b[\"b3\"],b[\"b4\"]]\n",
    "\n",
    "training_gen=optim_gen.minimize(cost_gen, var_list=vars_gen)\n",
    "training_disc=optim_gen.minimize(cost_disc, var_list=vars_disc)"
   ]
  },
  {
   "cell_type": "markdown",
   "metadata": {},
   "source": [
    "# Initialize the variables(i.e assign their default value)\n"
   ]
  },
  {
   "cell_type": "code",
   "execution_count": 9,
   "metadata": {},
   "outputs": [],
   "source": [
    "init =tf.global_variables_initializer()"
   ]
  },
  {
   "cell_type": "markdown",
   "metadata": {},
   "source": [
    "### Starting the model training session\n"
   ]
  },
  {
   "cell_type": "code",
   "execution_count": 10,
   "metadata": {},
   "outputs": [],
   "source": [
    "# cross_entropy = -tf.reduce_sum(gen_inp*tf.log(y_conv))\n",
    "# train_step = tf.train.AdamOptimizer(1e-4).minimize(cross_entropy)\n",
    "# correct_prediction = tf.equal(tf.argmax(y_conv,1), tf.argmax(y_,1))\n",
    "# accuracy = tf.reduce_mean(tf.cast(correct_prediction, \"float\"))"
   ]
  },
  {
   "cell_type": "code",
   "execution_count": 13,
   "metadata": {
    "scrolled": true
   },
   "outputs": [
    {
     "name": "stdout",
     "output_type": "stream",
     "text": [
      "Step 1: Generator Loss: 1.174713, Discriminator Loss: 1.145784\n",
      "Step 2000: Generator Loss: 5.084534, Discriminator Loss: 0.019912\n",
      "Step 4000: Generator Loss: 4.039534, Discriminator Loss: 0.063871\n",
      "Step 6000: Generator Loss: 4.140039, Discriminator Loss: 0.143743\n",
      "Step 8000: Generator Loss: 4.645658, Discriminator Loss: 0.070311\n",
      "Step 10000: Generator Loss: 4.126902, Discriminator Loss: 0.150643\n",
      "Step 12000: Generator Loss: 4.166895, Discriminator Loss: 0.251455\n",
      "Step 14000: Generator Loss: 4.333557, Discriminator Loss: 0.127097\n",
      "Step 16000: Generator Loss: 4.250654, Discriminator Loss: 0.166644\n",
      "Step 18000: Generator Loss: 3.869440, Discriminator Loss: 0.205827\n",
      "Step 20000: Generator Loss: 3.800434, Discriminator Loss: 0.289734\n",
      "Step 22000: Generator Loss: 4.157008, Discriminator Loss: 0.189885\n",
      "Step 24000: Generator Loss: 3.889543, Discriminator Loss: 0.218796\n",
      "Step 26000: Generator Loss: 4.074484, Discriminator Loss: 0.412890\n",
      "Step 28000: Generator Loss: 3.008605, Discriminator Loss: 0.339312\n",
      "Step 30000: Generator Loss: 3.648920, Discriminator Loss: 0.320491\n",
      "Step 32000: Generator Loss: 3.554184, Discriminator Loss: 0.465728\n",
      "Step 34000: Generator Loss: 3.443735, Discriminator Loss: 0.356761\n",
      "Step 36000: Generator Loss: 2.991017, Discriminator Loss: 0.343976\n",
      "Step 38000: Generator Loss: 3.041965, Discriminator Loss: 0.390022\n",
      "Step 40000: Generator Loss: 2.643777, Discriminator Loss: 0.505138\n",
      "Step 42000: Generator Loss: 3.184446, Discriminator Loss: 0.286290\n",
      "Step 44000: Generator Loss: 3.054142, Discriminator Loss: 0.499869\n",
      "Step 46000: Generator Loss: 3.214205, Discriminator Loss: 0.334696\n",
      "Step 48000: Generator Loss: 2.757978, Discriminator Loss: 0.337420\n",
      "Step 50000: Generator Loss: 2.776406, Discriminator Loss: 0.490548\n",
      "Step 52000: Generator Loss: 2.547231, Discriminator Loss: 0.422968\n",
      "Step 54000: Generator Loss: 2.723878, Discriminator Loss: 0.516140\n",
      "Step 56000: Generator Loss: 3.019481, Discriminator Loss: 0.361977\n",
      "Step 58000: Generator Loss: 2.613147, Discriminator Loss: 0.481575\n",
      "Step 60000: Generator Loss: 3.196715, Discriminator Loss: 0.374996\n",
      "Step 62000: Generator Loss: 2.741857, Discriminator Loss: 0.442101\n",
      "Step 64000: Generator Loss: 2.784485, Discriminator Loss: 0.458598\n",
      "Step 66000: Generator Loss: 3.133292, Discriminator Loss: 0.380699\n",
      "Step 68000: Generator Loss: 3.020260, Discriminator Loss: 0.530613\n",
      "Step 70000: Generator Loss: 2.489679, Discriminator Loss: 0.613974\n",
      "Step 72000: Generator Loss: 2.756352, Discriminator Loss: 0.466526\n",
      "Step 74000: Generator Loss: 2.722961, Discriminator Loss: 0.400713\n",
      "Step 76000: Generator Loss: 2.960650, Discriminator Loss: 0.456019\n",
      "Step 78000: Generator Loss: 3.226742, Discriminator Loss: 0.479321\n",
      "Step 80000: Generator Loss: 2.898147, Discriminator Loss: 0.377330\n",
      "Finished!\n"
     ]
    },
    {
     "data": {
      "image/png": "[encoded data removed]",
      "text/plain": [
       "<Figure size 432x432 with 1 Axes>"
      ]
     },
     "metadata": {
      "needs_background": "light"
     },
     "output_type": "display_data"
    }
   ],
   "source": [
    "with tf.Session() as sess:\n",
    "    \n",
    "    # run the initializer\n",
    "    sess.run(init)\n",
    "    # Give the batches to the session\n",
    "    for step in range(1,num_steps+1):\n",
    "        batch_x, _I=mnist.train.next_batch(batch_size)\n",
    "        \n",
    "        # Generate noise to feed to the generator\n",
    "        # range(-1.,1.) is Gaussian which is random uniform distribution\n",
    "        noise_temp=np.random.uniform(-1.,1.,size=[batch_size,noise_dim])\n",
    "        \n",
    "        #Run optimization op(backprop)\n",
    "        feed_dict={disc_inp:batch_x, gen_inp: noise_temp}\n",
    "        _,_,gl,dl=sess.run([training_gen, training_disc, cost_gen, cost_disc],\n",
    "                          feed_dict=feed_dict)\n",
    "        \n",
    "#         if gl is \"nan\":\n",
    "#             print(disc_fake_out)\n",
    "        if step % 2000 == 0 or step == 1:\n",
    "#             train_accuracy = accuracy.eval(feed_dict={\n",
    "#                 x:batch[0], y_: batch[1], keep_prob: 1.0})\n",
    "#             print(\"Step %i: Generator Loss: %f, Discriminator Loss: %f, training accuracy %g\" % (step,gl,dl,train_accuracy))\n",
    "            print(\"Step %i: Generator Loss: %f, Discriminator Loss: %f\" % (step,gl,dl))\n",
    "             \n",
    "    print(\"Finished!\")\n",
    "    \n",
    "    # Testing\n",
    "    # Generating the images using generator network\n",
    "    n=6\n",
    "    canvas = np.empty((28 * n, 28 * n))\n",
    "    \n",
    "    for i in range(n):\n",
    "        # Noise input\n",
    "        z=np.random.uniform(-1., 1., size=[n, noise_dim])\n",
    "        # Generate image from noise\n",
    "        g = sess.run(gen_out, feed_dict = {gen_inp:z})\n",
    "        # Reverse colors for better display\n",
    "        g = -1 * (g - 1)\n",
    "        for j in range(n):\n",
    "            # Draw the generated digits\n",
    "            canvas[i * 28: (i+1)*28, j*28:(j+1)*28]=g[j].reshape([28,28])\n",
    "    plt.figure(figsize=(n,n))\n",
    "    plt.imshow(canvas, origin=\"upper\", cmap=\"gray\")\n",
    "    plt.show\n"
   ]
  },
  {
   "cell_type": "code",
   "execution_count": 14,
   "metadata": {},
   "outputs": [],
   "source": [
    "# correct_prediction = tf.equal(tf.argmax(y,1), tf.argmax(y_,1))\n",
    "# accuracy = tf.reduce_mean(tf.cast(correct_prediction, \"float\"))\n",
    "# print sess.run(accuracy, feed_dict={x: mnist.test.images, y_: mnist.test.labels})"
   ]
  },
  {
   "cell_type": "markdown",
   "metadata": {},
   "source": []
  },
  {
   "cell_type": "markdown",
   "metadata": {},
   "source": [
    "### See the accuracy and the cost function for generator and the discriminator"
   ]
  }
 ],
 "metadata": {
  "accelerator": "GPU",
  "colab": {
   "collapsed_sections": [],
   "name": "Generative_adverserial_networks_Tensorflow.ipynb",
   "provenance": [],
   "version": "0.3.2"
  },
  "kernelspec": {
   "display_name": "Python 3",
   "language": "python",
   "name": "python3"
  },
  "language_info": {
   "codemirror_mode": {
    "name": "ipython",
    "version": 3
   },
   "file_extension": ".py",
   "mimetype": "text/x-python",
   "name": "python",
   "nbconvert_exporter": "python",
   "pygments_lexer": "ipython3",
   "version": "3.7.0"
  }
 },
 "nbformat": 4,
 "nbformat_minor": 1
}
